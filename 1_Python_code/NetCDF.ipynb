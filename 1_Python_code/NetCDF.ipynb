{
 "cells": [
  {
   "cell_type": "code",
   "execution_count": 16,
   "id": "d20d46f8-c3dd-4cfe-a77b-15730f60aa48",
   "metadata": {},
   "outputs": [],
   "source": [
    "# 读取nc文件\n",
    "import netCDF4 as nc\n",
    "\n",
    "# 地图\n",
    "import cartopy.crs as ccrs\n",
    "\n",
    "# 进行数组计算\n",
    "import numpy as np\n",
    "\n",
    "# 进行绘图时使用\n",
    "import matplotlib.pyplot as plt"
   ]
  },
  {
   "cell_type": "markdown",
   "id": "b065fe88-d555-45d7-aa94-a5bf6782147b",
   "metadata": {},
   "source": [
    "# 基础知识\n",
    "## NetCDF 数据\n",
    "- netcdf存储的数据就是一个多自变量的单值函数。用公式来说就是f(x,y,z,...)=value\n",
    "- 函数的自变量x,y,z等在netcdf中叫做维(dimension)或坐标轴(axis)\n",
    "- 函数值value在netcdf中叫做变量(Variables)\n",
    "- 而自变量和函数值在物理学上的一些性质，比如计量单位(量纲)、物理学名称等等在netcdf中就叫属性(Attributes)\n",
    "\n",
    "## 参考教程笔记\n",
    "[NetCDF(nc)读写与格式转换介绍](https://blog.csdn.net/weixin_44785184/article/details/128734138?spm=1001.2101.3001.6650.4&utm_medium=distribute.pc_relevant.none-task-blog-2%7Edefault%7ECTRLIST%7ERate-4-128734138-blog-103492575.235%5Ev38%5Epc_relevant_sort_base3&depth_1-utm_source=distribute.pc_relevant.none-task-blog-2%7Edefault%7ECTRLIST%7ERate-4-128734138-blog-103492575.235%5Ev38%5Epc_relevant_sort_base3&utm_relevant_index=9)575"
   ]
  },
  {
   "cell_type": "markdown",
   "id": "29d93028-88c2-4b42-bfd5-586dbed0ae67",
   "metadata": {},
   "source": [
    "## 新建、打开和关闭文件\n",
    "- nc.Dataset(filename, mode)\n",
    "    - filename 需要用双引号括起来\n",
    "- mode=\"w\" 创建新文件写，已经存在的文件会被覆盖掉\n",
    "- mode=\"r\" 只读，文件必须存在，此为默认的 mode\n",
    "- mode=\"r+\" 读写，文件必须存在\n",
    "- mode=\"a\" 打开已经存在的文件进行读写，如果不存在则创建一个新文件读写"
   ]
  },
  {
   "cell_type": "code",
   "execution_count": 79,
   "id": "4bc7871a-35dd-40aa-9ecf-92d1b379495f",
   "metadata": {},
   "outputs": [],
   "source": [
    "fname = \"test.nc\"\n",
    "f = nc.Dataset(fname, mode=\"a\", format=\"NETCDF4\")  # 打开nc文件并添加数据\n",
    "#f = nc.Dataset(fname, mode=\"w\", format=\"NETCDF4\")  # 新建nc文件 nc.Dataset\n",
    "#f = nc.Dataset(fname, mode=\"r\", format=\"NETCDF4\")  # 打开nc文件\n",
    "#f = nc.Dataset(fname, mode=\"r+\", format=\"NETCDF4\") # 打开nc文件并添加数据\n",
    "#简写： f=nc.Dataset(\"test.nc\",\"a\",\"NETCDF4\")\n",
    "\n",
    "#f.close() # 关闭文件"
   ]
  },
  {
   "cell_type": "markdown",
   "id": "06291e96-4f24-48d8-beeb-63248b151c19",
   "metadata": {},
   "source": [
    "## 维度创建和读取\n",
    "### 创建维度"
   ]
  },
  {
   "cell_type": "markdown",
   "id": "96054c25-184e-424f-be32-467ebbe375e9",
   "metadata": {},
   "source": [
    "time  = f.createDimension(\"time\", None)  # unlimited维度\n",
    "lat   = f.createDimension(\"lat\", 73)     # 维度名lat，维度大小73\n",
    "lon   = f.createDimension(\"lon\", 144)\n",
    "time.isunlimited() #判断维度是否是unlimited维度"
   ]
  },
  {
   "cell_type": "markdown",
   "id": "185eb5b7-0191-45e8-82af-b8d23dcd09c9",
   "metadata": {},
   "source": [
    "### 读取维度\n",
    "- print('1. Dimensions: ',f.dimensions) #维度 dimensions\n",
    "- print('2. Variables: ',f.dimensions.keys()) #变量 variables\n",
    "- print('3. Global attribute names: ',f.ncattrs())#全局属性ncattrs()，获取name getncattr获取value\n",
    "- print('4. Global attribute values: ',[dataset.getncattr(i) for i in dataset.ncattrs()])\n",
    "\n",
    "- .createDimension(DimensionName,维度大小)\n",
    "    - 0或者None表示不限制维度大小\n",
    "- .len()返回维度大小\n",
    "- .isunlimited()判断当前维度是否无限制"
   ]
  },
  {
   "cell_type": "code",
   "execution_count": 80,
   "id": "3c38cab4-2082-4b5b-b97a-43df4134bc74",
   "metadata": {},
   "outputs": [],
   "source": [
    "level = f.createDimension(\"level\", None)\n",
    "time = f.createDimension(\"time\", None)\n",
    "lat = f.createDimension(\"lat\", 73)\n",
    "lon = f.createDimension(\"lon\", 144)"
   ]
  },
  {
   "cell_type": "code",
   "execution_count": 81,
   "id": "eebeeade-4a88-4330-9bbc-f098239ec613",
   "metadata": {},
   "outputs": [
    {
     "name": "stdout",
     "output_type": "stream",
     "text": [
      "73 144 False\n"
     ]
    }
   ],
   "source": [
    "# 查看维度大小\n",
    "nlats = len(f.dimensions[\"lat\"])\n",
    "nlons = len(f.dimensions[\"lon\"])\n",
    "print(nlats, nlons, lon.isunlimited())"
   ]
  },
  {
   "cell_type": "markdown",
   "id": "f5b7f589-6808-4849-b33a-15c90021c65a",
   "metadata": {},
   "source": [
    "## 变量的创建、读取和存储\n",
    "### 创建变量\n",
    "- .createVariable(变量名，变量数据类型，变量所在纬度)\n",
    "- 数据类型:\n",
    "    - \"f4\"：32位浮点数\n",
    "    - “f8”: 64位浮点数\n",
    "    - “i4”: 32位有符号整数\n",
    "    - “i2”：16位有符号整数\n",
    "    - “i8”：64位有符号整数\n",
    "    - “i1”：8位有符号整数\n",
    "    - “u1”：8位无符号整数"
   ]
  },
  {
   "cell_type": "code",
   "execution_count": 82,
   "id": "34a09707-1e07-4071-a3e9-2e7fe7fca23c",
   "metadata": {},
   "outputs": [],
   "source": [
    "# 变量名\"level\"，数据类型\"i4\"，维度名(\"level\",)\n",
    "times = f.createVariable(\"time\",\"f8\",(\"time\",))\n",
    "level = f.createVariable(\"level\", \"i4\", (\"level\",))\n",
    "latitudes  = f.createVariable(\"lat\",\"f4\",(\"lat\",))\n",
    "longitudes = f.createVariable(\"lon\",\"f4\",(\"lon\",))\n",
    "# 变量属性\n",
    "latitudes.units  = \"degrees north\"   # 添加变量属性\n",
    "longitudes.units = \"degrees east\"\n",
    "times.units      = \"hours since 0001-01-01 00:00:00.0\"\n",
    "times.calendar   = \"gregorian\"\n",
    "level.units = \"hPa\"\n",
    "temp.units = \"K\""
   ]
  },
  {
   "cell_type": "code",
   "execution_count": 83,
   "id": "20708aea-b813-4ab5-8030-0294817cdc43",
   "metadata": {},
   "outputs": [
    {
     "data": {
      "text/plain": [
       "'\\n# 常用数据类型\\ni2 ：整型int16\\ni4 ：整型int32\\ni8 ：整型int64\\nf4 : 实型单精度single，32位\\nf8 : 实型双精度double，64位\\nS1 ：单个字符串 (single-character string)\\n'"
      ]
     },
     "execution_count": 83,
     "metadata": {},
     "output_type": "execute_result"
    }
   ],
   "source": [
    "# 多维数据的维度排列一般位时间，纬度，经度（时间，垂直层，纬度，经度）\n",
    "temp = f.createVariable(\"temp\",\"f4\",(\"time\",\"level\",\"lat\",\"lon\",))\n",
    "temp.units      = \"K\"                 # 变量单位\n",
    "temp.decription = \"Air temperature\"   # 变量说明\n",
    "temp._Fillvalue  = -999               # 缺省值\n",
    "\"\"\"\n",
    "# 常用数据类型\n",
    "i2 ：整型int16\n",
    "i4 ：整型int32\n",
    "i8 ：整型int64\n",
    "f4 : 实型单精度single，32位\n",
    "f8 : 实型双精度double，64位\n",
    "S1 ：单个字符串 (single-character string)\n",
    "\"\"\""
   ]
  },
  {
   "cell_type": "markdown",
   "id": "2de16ee2-aa5c-4b1d-9411-6450c069a232",
   "metadata": {},
   "source": [
    "### 添加变量属性\n",
    "- unit()：添加变量属性\n",
    "  - 全局属性：提供一个组或整个数据集的信息\n",
    "  - 变量属性：提供某个变量的信息（变量属性可以是字符串、数字、序列）\n",
    "### 检索变量属性的名称\n",
    "- ncattrs()"
   ]
  },
  {
   "cell_type": "code",
   "execution_count": 84,
   "id": "48263e6f-9ef0-4c7b-8038-6ea3202beea0",
   "metadata": {},
   "outputs": [
    {
     "name": "stdout",
     "output_type": "stream",
     "text": [
      "Global attr description = bogus example script\n",
      "Global attr history = Created at Mon Aug 14 19:28:33 2023\n",
      "Global attr source = netCDF4 python module tutorial\n"
     ]
    }
   ],
   "source": [
    "import time\n",
    "f.description = \"bogus example script\"\n",
    "f.history = \"Created at \" + time.ctime(time.time())\n",
    "f.source = \"netCDF4 python module tutorial\"\n",
    "latitudes.units = \"degrees north\"\n",
    "longitudes.units = \"degrees east\"\n",
    "temp.units = \"K\"\n",
    "times.units = \"hours since 1900-01-01 00:00:00.0\"\n",
    "times.calendar = \"gregorian\"\n",
    "\n",
    "for name in f.ncattrs():\n",
    "    print(\"Global attr {} = {}\".format(name, getattr(f, name)))"
   ]
  },
  {
   "cell_type": "markdown",
   "id": "ae58c148-0017-43a3-a940-6d2f89957f16",
   "metadata": {},
   "source": [
    "# NetCDF文件读写\n",
    "## 写入数据\n",
    "- 调用numpy,把数据当做一个numpy数组\n",
    "- 使用numpy数组切片的方式给变量赋值\n",
    "- 与numPy的数组对象不同的是，如果在当前变量定义的索引范围之外分配数据，具有无限维的NetCDF变量将沿着这些维增长"
   ]
  },
  {
   "cell_type": "code",
   "execution_count": 88,
   "id": "fec97972-11d7-4889-84a3-bc6e1b111a8f",
   "metadata": {},
   "outputs": [
    {
     "name": "stdout",
     "output_type": "stream",
     "text": [
      "temp shape before adding data = (5, 10, 73, 144)\n",
      "temp shape after adding data = (5, 10, 73, 144)\n",
      "level shape after adding pressure data = (10,)\n",
      "[-- -- -- -- -- -- -- -- -- --]\n"
     ]
    }
   ],
   "source": [
    "lats = np.arange(-90, 91, 2.5)\n",
    "lons = np.arange(-180, 180, 2.5)\n",
    "latitudes[:] = lats\n",
    "longitudes[:] = lons\n",
    "\n",
    "# netCDF 写入数据的维度大小会自动延长\n",
    "print(\"temp shape before adding data = {}\".format(temp.shape))\n",
    "from numpy.random import uniform\n",
    "temp[0:5, 0:10, :, :] = uniform(size=(5, 10, nlats, nlons))\n",
    "print(\"temp shape after adding data = {}\".format(temp.shape))\n",
    "print(\"level shape after adding pressure data = {}\".format(level.shape)) \n",
    "print(level[:])"
   ]
  },
  {
   "cell_type": "markdown",
   "id": "41c88181-6666-4dbf-8330-91c905659249",
   "metadata": {},
   "source": [
    "## 读取数据\n",
    "- NumPy和netCDF变量切片规则之间存在一些差异。\n",
    "- 切片行为如常，都是start:stop:step三元组。\n",
    "- numpy使用标量整数索引i获取第i个元素，并将输出数组的秩减少一。\n",
    "- NetCDF变量，布尔数组和整数序列索引的行为不同于numpy数组。它只允许一维布尔数组和整数序列，这些索引沿着每个维度独立工作138"
   ]
  },
  {
   "cell_type": "code",
   "execution_count": 89,
   "id": "d95d04a4-af6e-4c9e-b8c2-ebd88795a392",
   "metadata": {},
   "outputs": [
    {
     "name": "stdout",
     "output_type": "stream",
     "text": [
      "(4, 4)\n"
     ]
    }
   ],
   "source": [
    "# 索引沿着每个维度独立工作\n",
    "print(temp[0, 0, [0,1,2,3], [0,1,2,3]].shape)"
   ]
  },
  {
   "cell_type": "code",
   "execution_count": 91,
   "id": "d1094035-a804-4c2f-8469-5dda3e23c5c1",
   "metadata": {},
   "outputs": [
    {
     "name": "stdout",
     "output_type": "stream",
     "text": [
      "shape of fancy temp slice = (3, 3, 36, 71)\n"
     ]
    }
   ],
   "source": [
    "#提取time切片为0、2和4，气压level为850、500和200百帕，所有北半球纬度和东半球经度\n",
    "tempdat = temp[::2, [1,3,6], lats>0, lons>0]\n",
    "print(\"shape of fancy temp slice = {}\".format(tempdat.shape))"
   ]
  },
  {
   "cell_type": "markdown",
   "id": "1060ef07-9cf8-47bf-97d1-9469bdfcded3",
   "metadata": {},
   "source": [
    "### 多个NetCDF文件的读取操作\n",
    "- 使用MFDatset读取数据（MFDataset不能用于写入多文件数据集），使用文件名列表或带通配符的字符串创建MFDataset实例，将文件列表中具有相同无限维度的变量聚集在一起，可以夸多个文件进行切片\n",
    "- 文件必须采用NETCDF3_64BIT_OFFSET、NETCDF3_64BIT_DATA、NETCDF3_CLASSIC或NETCDF4_CLASSIC格式（MFDataset不支持NETCDF4格式）"
   ]
  },
  {
   "cell_type": "code",
   "execution_count": 93,
   "id": "51fb5a09-0744-4e13-ab6e-6b2560ffdb6a",
   "metadata": {},
   "outputs": [
    {
     "name": "stdout",
     "output_type": "stream",
     "text": [
      "[ 0  1  2  3  4  5  6  7  8  9 10 11 12 13 14 15 16 17 18 19 20 21 22 23\n",
      " 24 25 26 27 28 29 30 31 32 33 34 35 36 37 38 39 40 41 42 43 44 45 46 47\n",
      " 48 49 50 51 52 53 54 55 56 57 58 59 60 61 62 63 64 65 66 67 68 69 70 71\n",
      " 72 73 74 75 76 77 78 79 80 81 82 83 84 85 86 87 88 89 90 91 92 93 94 95\n",
      " 96 97 98 99]\n"
     ]
    }
   ],
   "source": [
    "# 创建一组具有相同变量名、具有相同无线维度的NetCDF文件\n",
    "for nf in range(10):\n",
    "     with nc.Dataset(\"mftest%s.nc\" % nf, \"w\", format=\"NETCDF4_CLASSIC\") as f:\n",
    "         _ = f.createDimension(\"x\", None)\n",
    "         x = f.createVariable(\"x\", \"i\", (\"x\",))\n",
    "         x[0:10] = np.arange(nf*10, 10*(nf+1))\n",
    "\n",
    "#使用MFDataset一次读取所有文件\n",
    "from netCDF4 import MFDataset\n",
    "f = MFDataset(\"mftest*nc\")\n",
    "print(f.variables[\"x\"][:])"
   ]
  },
  {
   "cell_type": "markdown",
   "id": "ae1dc87e-638b-4220-b927-a6a91e14630d",
   "metadata": {},
   "source": [
    "# NetCDF的地理参考\n",
    "## 坐标维度\n",
    "- 一个NetCDF变量的地理参考与该变量的维度相关联，用于空间定位的维度被称为坐标维度。\n",
    "- 坐标维度必须是独立变化的维度。\n",
    "## 坐标变量\n",
    "- 同时有一个和其名称相同的变量并且该变量的维度就是这个用于空间定位的维度，这个变量被称为坐标变量。\n",
    "- 坐标变量最常见的用途是在空间和时间上定位数据，但可以为数据变量所依赖的任何其他连续地球物理量（例如密度、温度、辐射波长、天顶辐射角、海面波频率）或离散类别（例如区域类型、模型级别编号、集成成员编号）提供坐标。\n",
    "- 地理坐标系默认为WGS 84坐标系，根据坐标变量的units属性判断一个变量是不是坐标变量，经度变量和纬度变量的units属性要求不同\n",
    "    - 表示纬度的变量必须始终显式包含units属性；没有默认值\n",
    "    - 建议的纬度单位是degrees_north，或者degree_north、degree_N、degrees_N、degreeN和degreesN\n",
    "    - 表示经度的变量必须始终显式包含units属性；没有默认值。units属性将是根据 udunits.dat 文件格式化的字符串。建议的经度单位为degrees_east，或者degree_east、degree_E、degrees_E、degreeE和degreesE38\n",
    "\n",
    "  \n",
    "NetCDF文件标准化的约定（COARDS）对坐标变量进行了定义，但相对而言较为简单。因此，一些学者共同制定并开源了NetCDF气候和预报（CF）元数据公约，旨在促进使用NetCDF应用程序编程器接口 NetCDF 创建的文件的处理和共享。CF公约概括并扩展COARDS公约，其目的是要求符合要求的数据集包含足够的元数据，这些元数据是自描述的，即文件中的每个变量都有对其所表示内容的相关描述，包括物理单位（如果适用），并且每个值可以位于空间（相对于基于地球的坐标）和时间中。\n",
    "\n",
    "CF公约对四种类型的坐标变量进行了特殊处理：纬度、经度、垂直和时间。CF公约不会根据变量的名称判断一个变量是否是坐标变量，而会根据变量的units和positive属性的值判断。由于这种识别坐标类型的方法很复杂，因此CF公约提供了两种产生直接标识的可选方法。属性axis可以附加到坐标变量，并给定值 X、Y、Z或T之一，分别代表经度、纬度、垂直轴或时间轴。或者，standard_name属性可用于直接标识。但请注意，这些可选属性是对必需的COARDS元数据的补充。\n",
    "\n",
    "要识别通用空间坐标，需要将axis属性附加到这些坐标变量中，并给定值X、Y或Z之一。轴属性的值X和Y应用于标识水平坐标变量。如果同时标识了X轴和Y轴，则X-Y-up应定义一个右手坐标系，即如果从上方观察，从正X方向到正Y方向的旋转是逆时针的。138"
   ]
  },
  {
   "cell_type": "code",
   "execution_count": null,
   "id": "3bbaa5c2-5853-45ff-8f6b-1ac70bc63793",
   "metadata": {},
   "outputs": [],
   "source": [
    "# 地理坐标系下的纬度变量\n",
    "float lat(lat) ;\n",
    "  lat:long_name = \"latitude\" ;\n",
    "  lat:units = \"degrees_north\" ;\n",
    "  lat:standard_name = \"latitude\" ;\n",
    "\n",
    "# 地理坐标系下的经度变量\n",
    "float lon(lon) ;\n",
    "  lon:long_name = \"longitude\" ;\n",
    "  lon:units = \"degrees_east\" ;\n",
    "  lon:standard_name = \"longitude\" ;\n",
    "\n"
   ]
  },
  {
   "cell_type": "markdown",
   "id": "87ab73fc",
   "metadata": {},
   "source": [
    "## 绘图\n",
    "- 参考：https://computing-docs.readthedocs.io/en/latest/cesm/output_cesm.html"
   ]
  },
  {
   "cell_type": "markdown",
   "id": "5f2fc605",
   "metadata": {},
   "source": [
    "import matplotlib.pyplot as plt\n",
    "import numpy as np\n",
    "import xarray as xr"
   ]
  },
  {
   "cell_type": "code",
   "execution_count": null,
   "id": "cd32f32e",
   "metadata": {},
   "outputs": [],
   "source": [
    "data_control = xr.open_dataset(\"/data/keeling/a/pappup2/a/CESM/cam5_new/CESM_output_data/atm/hist/cam5_new.cam.h0.0020-12.nc\") #End of 20 year\n",
    "\n",
    "#data_control is the experiment run with the control SST.\n",
    "\n",
    "data_00 = xr.open_dataset(\"/data/keeling/a/pappup2/a/CESM/cam_00/CESM_output_data/atm/hist/cam_00.cam.h0.0020-12.nc\") #End of 20 year\n",
    "\n",
    "#data_00 is run with a perturbation of 2K at the equator"
   ]
  },
  {
   "cell_type": "markdown",
   "id": "e65d16e8",
   "metadata": {},
   "source": [
    "### Plotting sea surface temperature (Noted as TS)"
   ]
  },
  {
   "cell_type": "code",
   "execution_count": null,
   "id": "7516c530",
   "metadata": {},
   "outputs": [],
   "source": [
    "data_00.TS"
   ]
  },
  {
   "cell_type": "code",
   "execution_count": null,
   "id": "fc608937",
   "metadata": {},
   "outputs": [],
   "source": [
    "#surface_t2 = surface_t_2.mean('lon')\n",
    "surface_t2 = data_control.TS.mean('lon')\n",
    "surface_t2.plot(color=\"black\",label=\"Control\")\n",
    "surface_t1 = data_00.TS.mean('lon')\n",
    "surface_t1.plot(color=\"red\",label=\" perturbation\")\n",
    "#plot\n",
    "plt.legend(loc='lower center')\n",
    "plt.axvline(x=0,color=\"black\",linestyle='dashed')\n",
    "plt.axvspan(-10, 10, color='yellow', alpha=0.5)"
   ]
  }
 ],
 "metadata": {
  "kernelspec": {
   "display_name": "Python 3 (ipykernel)",
   "language": "python",
   "name": "python3"
  },
  "language_info": {
   "codemirror_mode": {
    "name": "ipython",
    "version": 3
   },
   "file_extension": ".py",
   "mimetype": "text/x-python",
   "name": "python",
   "nbconvert_exporter": "python",
   "pygments_lexer": "ipython3",
   "version": "3.9.6"
  }
 },
 "nbformat": 4,
 "nbformat_minor": 5
}
