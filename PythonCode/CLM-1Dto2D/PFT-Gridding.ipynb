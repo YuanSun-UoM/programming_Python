{
 "cells": [
  {
   "cell_type": "markdown",
   "metadata": {},
   "source": [
    "### Importing Libraries"
   ]
  },
  {
   "cell_type": "code",
   "execution_count": 1,
   "metadata": {},
   "outputs": [],
   "source": [
    "%matplotlib inline\n",
    "import numpy as np\n",
    "from numpy import empty\n",
    "import warnings\n",
    "warnings.filterwarnings('ignore')\n",
    "import xarray as xr\n",
    "import metpy as metpy\n",
    "import netCDF4\n",
    "from netCDF4 import Dataset\n",
    "from ctsm_py import utils  #when using utils in the CTSM_py directory (work); also need to do pip install -e\n",
    "#import esmlab  #note: need to make sure to install in current environment first\n",
    "#note that CMIP6 doesn't have metpy; use conda env:miniconda-analysis"
   ]
  },
  {
   "cell_type": "markdown",
   "metadata": {},
   "source": [
    "### Defining simulation information"
   ]
  },
  {
   "cell_type": "code",
   "execution_count": 2,
   "metadata": {},
   "outputs": [],
   "source": [
    "datadir        = \"/glade/p/cgd/tss/people/dll/TRENDY2019_History/\"\n",
    "sim            = \"S0_control/\"\n",
    "datadir        = datadir + sim\n",
    "simname        = \"TRENDY2019_S0_control_v2.clm2.h1.\"\n",
    "var            = \"GPP\"\n",
    "years          = \"170001-201812\"\n",
    "\n",
    "maxval = \"True\""
   ]
  },
  {
   "cell_type": "code",
   "execution_count": 3,
   "metadata": {},
   "outputs": [
    {
     "name": "stdout",
     "output_type": "stream",
     "text": [
      "/glade/p/cgd/tss/people/dll/TRENDY2019_History/S0_control/TRENDY2019_S0_control_v2.clm2.h1.GPP.170001-201812.nc\n"
     ]
    }
   ],
   "source": [
    "print(datadir+simname+var+\".\"+years+\".nc\")"
   ]
  },
  {
   "cell_type": "code",
   "execution_count": 3,
   "metadata": {
    "jupyter": {
     "source_hidden": true
    }
   },
   "outputs": [],
   "source": [
    "#This is an example copied from Dan's script -- helps to read in multiple variables\n",
    "#dir = \n",
    "#sim = \n",
    "#pref = 'lnd/proc/tseries/month_1' \n",
    "#suff = \".clm2.h0.\"\n",
    "#variables = [\" \"]\n",
    "#pattern   = dir + sim + proc + pref + '{var}' + suff\n",
    "#files = [pattern.format(var=var) for var in variables]\n",
    "\n",
    "#for multiple files, use xr.open_mfdataset; dan also uses utils.time_set_mid to make the time dims work properly\n",
    "\n",
    "#365*utils.weighted_annual_mean --> weights by days/month\n",
    "#timeslice: ix_time = (ds['time.year']>1963) & (ds['time.year']<2014) # note that dan's dataset is 'ds'\n",
    "#plt.subplot(121) #-->1 row, 2 plots, plot 1\n",
    "#signal.detrend (?)"
   ]
  },
  {
   "cell_type": "code",
   "execution_count": 4,
   "metadata": {},
   "outputs": [],
   "source": [
    "data1          = utils.time_set_mid(xr.open_dataset(datadir+simname+var+\".\"+years+\".nc\", decode_times=True), 'time')\n",
    "\n",
    "#Use below for testing\n",
    "#data1          = xr.open_dataset(\"/glade/scratch/dll/archive/TRENDY2019_S0_constant_v2/lnd/hist/TRENDY2019_S0_constant_v2.clm2.h1.2018-12.nc\")"
   ]
  },
  {
   "cell_type": "code",
   "execution_count": null,
   "metadata": {},
   "outputs": [],
   "source": [
    "print(data1)"
   ]
  },
  {
   "cell_type": "markdown",
   "metadata": {},
   "source": [
    "### Reading in Land Use Change dataset for masking the real distribution of each crop type"
   ]
  },
  {
   "cell_type": "code",
   "execution_count": 5,
   "metadata": {},
   "outputs": [],
   "source": [
    "#Note: Update this based on the LUC file from your simulation\n",
    "lucdat    = xr.open_dataset(\"/glade/p/cesmdata/cseg/inputdata/lnd/clm2/surfdata_map/release-clm5.0.24/landuse.timeseries_0.9x1.25_hist_78pfts_TRENDY_simyr1700-2018_c190814.nc\")"
   ]
  },
  {
   "cell_type": "code",
   "execution_count": null,
   "metadata": {},
   "outputs": [],
   "source": [
    "print(lucdat)"
   ]
  },
  {
   "cell_type": "markdown",
   "metadata": {},
   "source": [
    "### Reading in variables from data file"
   ]
  },
  {
   "cell_type": "code",
   "execution_count": 6,
   "metadata": {},
   "outputs": [],
   "source": [
    "years        = np.arange(1700,2019,1)\n",
    "month          = np.arange(0,12,1)\n",
    "area           = data1.area\n",
    "landfrac       = data1.landfrac\n",
    "lat            = data1.lat\n",
    "lon            = data1.lon\n",
    "time           = data1.time\n",
    "\n",
    "ixy            = data1.pfts1d_ixy\n",
    "jxy            = data1.pfts1d_jxy\n",
    "#coltype        = data1.pfts1d_itype_col\n",
    "vegtype        = data1.pfts1d_itype_veg\n",
    "cellwtd        = data1.pfts1d_wtgcell\n",
    "\n",
    "gpp            = data1.GPP\n",
    "#print(type(gpp))\n",
    "#print(gpp.dims)\n",
    "#print (gpp['time'].values)\n",
    "#print(gpp)"
   ]
  },
  {
   "cell_type": "markdown",
   "metadata": {},
   "source": [
    "### Reading in variables from LUC file"
   ]
  },
  {
   "cell_type": "code",
   "execution_count": 7,
   "metadata": {},
   "outputs": [],
   "source": [
    "pctcft         = lucdat.PCT_CFT\n",
    "pctcrop        = lucdat.PCT_CROP\n",
    "#print(pctcft)\n",
    "#print(pctcrop)"
   ]
  },
  {
   "cell_type": "markdown",
   "metadata": {},
   "source": [
    "### Defining proportion of each crop type (pctcft) within the grid crop area (pctcrop)"
   ]
  },
  {
   "cell_type": "code",
   "execution_count": 8,
   "metadata": {},
   "outputs": [
    {
     "name": "stdout",
     "output_type": "stream",
     "text": [
      "<xarray.DataArray (time: 319, cft: 64, lsmlat: 192, lsmlon: 288)>\n",
      "array([[[[0., ..., 0.],\n",
      "         ...,\n",
      "         [0., ..., 0.]],\n",
      "\n",
      "        ...,\n",
      "\n",
      "        [[0., ..., 0.],\n",
      "         ...,\n",
      "         [0., ..., 0.]]],\n",
      "\n",
      "\n",
      "       ...,\n",
      "\n",
      "\n",
      "       [[[0., ..., 0.],\n",
      "         ...,\n",
      "         [0., ..., 0.]],\n",
      "\n",
      "        ...,\n",
      "\n",
      "        [[0., ..., 0.],\n",
      "         ...,\n",
      "         [0., ..., 0.]]]])\n",
      "Coordinates:\n",
      "  * cft      (cft) int32 15 16 17 18 19 20 21 22 23 ... 71 72 73 74 75 76 77 78\n",
      "  * time     (time) int32 1700 1701 1702 1703 1704 ... 2014 2015 2016 2017 2018\n",
      "Dimensions without coordinates: lsmlat, lsmlon\n",
      "CPU times: user 8.77 s, sys: 1min 16s, total: 1min 25s\n",
      "Wall time: 4min 4s\n"
     ]
    }
   ],
   "source": [
    "%%time\n",
    "# This takes ~4 minutes (pctcft = 319 x 64 x 192 x 288)\n",
    "cropwts        = (pctcft/100) * (pctcrop/100)\n",
    "print(cropwts)"
   ]
  },
  {
   "cell_type": "markdown",
   "metadata": {},
   "source": [
    "### Creating crop mask based on weights of specific crop types\n",
    "Masking regions with crop area <0.5%"
   ]
  },
  {
   "cell_type": "code",
   "execution_count": 9,
   "metadata": {},
   "outputs": [
    {
     "name": "stdout",
     "output_type": "stream",
     "text": [
      "<xarray.DataArray (time: 319, cft: 64, lsmlat: 192, lsmlon: 288)>\n",
      "array([[[[nan, ..., nan],\n",
      "         ...,\n",
      "         [nan, ..., nan]],\n",
      "\n",
      "        ...,\n",
      "\n",
      "        [[nan, ..., nan],\n",
      "         ...,\n",
      "         [nan, ..., nan]]],\n",
      "\n",
      "\n",
      "       ...,\n",
      "\n",
      "\n",
      "       [[[nan, ..., nan],\n",
      "         ...,\n",
      "         [nan, ..., nan]],\n",
      "\n",
      "        ...,\n",
      "\n",
      "        [[nan, ..., nan],\n",
      "         ...,\n",
      "         [nan, ..., nan]]]])\n",
      "Coordinates:\n",
      "  * cft      (cft) int32 15 16 17 18 19 20 21 22 23 ... 71 72 73 74 75 76 77 78\n",
      "  * time     (time) int32 1700 1701 1702 1703 1704 ... 2014 2015 2016 2017 2018\n",
      "Dimensions without coordinates: lsmlat, lsmlon\n",
      "CPU times: user 4.18 s, sys: 34.2 s, total: 38.4 s\n",
      "Wall time: 1min 35s\n"
     ]
    }
   ],
   "source": [
    "%%time\n",
    "# this takes ~2 minutes\n",
    "\n",
    "#values replaced with nan by default\n",
    "cropwtsmask    = cropwts.where(cropwts>0.005)\n",
    "print(cropwtsmask)\n"
   ]
  },
  {
   "cell_type": "code",
   "execution_count": null,
   "metadata": {},
   "outputs": [],
   "source": [
    "#crop2    = cropwtsmask.isel(time=300)\n",
    "#cropsum  = crop2.sum\n",
    "#can't figure out how to make sure the sum of the weights is 1\n",
    "#print(cropsum)"
   ]
  },
  {
   "cell_type": "markdown",
   "metadata": {},
   "source": [
    "### Quick plot to determine if mask works correctly"
   ]
  },
  {
   "cell_type": "code",
   "execution_count": 10,
   "metadata": {},
   "outputs": [
    {
     "data": {
      "text/plain": [
       "<matplotlib.collections.QuadMesh at 0x2b2076506630>"
      ]
     },
     "execution_count": 10,
     "metadata": {},
     "output_type": "execute_result"
    },
    {
     "data": {
      "image/png": "[encoded data removed]",
      "text/plain": [
       "<Figure size 432x288 with 2 Axes>"
      ]
     },
     "metadata": {
      "needs_background": "light"
     },
     "output_type": "display_data"
    }
   ],
   "source": [
    "cropwtsmask.isel(time=300,cft=55).plot()\n",
    "#cropwtsmask.isel(time=300,cft=24).plot(robust=True) #-->this statistically selects min & max values"
   ]
  },
  {
   "cell_type": "markdown",
   "metadata": {},
   "source": [
    "### Processing time and area variables"
   ]
  },
  {
   "cell_type": "code",
   "execution_count": 11,
   "metadata": {},
   "outputs": [
    {
     "name": "stdout",
     "output_type": "stream",
     "text": [
      "319\n"
     ]
    }
   ],
   "source": [
    "#not sure area vars are needed here\n",
    "area.metpy.convert_units('m^2')\n",
    "landarea       = area*landfrac\n",
    "landarea.attrs['units']   = 'm^2'\n",
    "\n",
    "num_years       = len(time)//12\n",
    "print(num_years)\n",
    "npftvector      = len(ixy)\n",
    "#type(cellwtd)"
   ]
  },
  {
   "cell_type": "code",
   "execution_count": 12,
   "metadata": {},
   "outputs": [],
   "source": [
    "#print (cellwtd.values)\n",
    "cellwt = cellwtd.values\n",
    "cellwt_float =cellwt.astype(float)\n",
    "\n",
    "#print (type(cellwt_float[1]))\n",
    "\n",
    "nlat = len(lat.values)\n",
    "nlon = len(lon.values)\n",
    "nvegtype = len(vegtype.values)\n",
    "ntim   = len(time.values)\n",
    "npft = (np.max(vegtype))\n",
    "npft = npft.astype(int)\n",
    "pftlist = np.arange(0,(npft.values+1),1)"
   ]
  },
  {
   "cell_type": "code",
   "execution_count": null,
   "metadata": {},
   "outputs": [],
   "source": []
  },
  {
   "cell_type": "markdown",
   "metadata": {},
   "source": [
    "### Defining PFT names"
   ]
  },
  {
   "cell_type": "code",
   "execution_count": 13,
   "metadata": {},
   "outputs": [
    {
     "name": "stdout",
     "output_type": "stream",
     "text": [
      "78\n"
     ]
    }
   ],
   "source": [
    "pftname =   [\"needleleaf_evergreen_temperate_tree\",\n",
    "             \"needleleaf_evergreen_boreal_tree\",\n",
    "             \"needleleaf_deciduous_boreal_tree\",\n",
    "             \"broadleaf_evergreen_tropical_tree\",\n",
    "             \"broadleaf_evergreen_temperate_tree\",\n",
    "             \"broadleaf_deciduous_tropical_tree\",\n",
    "             \"broadleaf_deciduous_temperate_tree\",\n",
    "             \"broadleaf_deciduous_boreal_tree\",\n",
    "             \"broadleaf_evergreen_shrub\",\n",
    "             \"broadleaf_deciduous_temperate_shrub\",\n",
    "             \"broadleaf_deciduous_boreal_shrub\",\n",
    "             \"c3_arctic_grass\",\n",
    "             \"c3_non-arctic_grass\",\n",
    "             \"c4_grass\",\n",
    "             \"unmanaged_c3_crop\",\n",
    "             \"unmanaged_c3_irrigated\",\n",
    "             \"temperate_corn\",\n",
    "             \"irrigated_temperate_corn\",\n",
    "             \"spring_wheat\",\n",
    "             \"irrigated_spring_wheat\",\n",
    "             \"winter_wheat\",\n",
    "             \"irrigated_winter_wheat\",\n",
    "             \"soybean\",\n",
    "             \"irrigated_soybean\",\n",
    "             \"barley\",\n",
    "             \"irrigated_barley\",\n",
    "             \"winter_barley\",\n",
    "             \"irrigated_winter_barley\",\n",
    "             \"rye\",\n",
    "             \"irrigated_rye\",\n",
    "             \"winter_rye\",\n",
    "             \"irrigated_winter_rye\",\n",
    "             \"cassava\",\n",
    "             \"irrigated_cassava\",\n",
    "             \"citrus\",\n",
    "             \"irrigated_citrus\",\n",
    "             \"cocoa\",\n",
    "             \"irrigated_cocoa\",\n",
    "             \"coffee\",\n",
    "             \"irrigated_coffee\",\n",
    "             \"cotton\",\n",
    "             \"irrigated_cotton\",\n",
    "             \"datepalm\",\n",
    "             \"irrigated_datepalm\",\n",
    "             \"foddergrass\",\n",
    "             \"irrigated_foddergrass\",\n",
    "             \"grapes\",\n",
    "             \"irrigated_grapes\",\n",
    "             \"groundnuts\",\n",
    "             \"irrigated_groundnuts\",\n",
    "             \"millet\",\n",
    "             \"irrigated_millet\",\n",
    "             \"oilpalm\",\n",
    "             \"irrigated_oilpalm\",\n",
    "             \"potatoes\",\n",
    "             \"irrigated_potatoes\",\n",
    "             \"pulses\",\n",
    "             \"irrigated_pulses\",\n",
    "             \"rapeseed\",\n",
    "             \"irrigated_rapeseed\",\n",
    "             \"rice\",\n",
    "             \"irrigated_rice\",\n",
    "             \"sorghum\",\n",
    "             \"irrigated_sorghum\",\n",
    "             \"sugarbeet\",\n",
    "             \"irrigated_sugarbeet\",\n",
    "             \"sugarcane\",\n",
    "             \"irrigated_sugarcane\",\n",
    "             \"sunflower\",\n",
    "             \"irrigated_sunflower\",\n",
    "             \"miscanthus\",\n",
    "             \"irrigated_miscanthus\",\n",
    "             \"switchgrass\",\n",
    "             \"irrigated_switchgrass\",\n",
    "             \"tropical_corn\",\n",
    "             \"irrigated_tropical_corn\",\n",
    "             \"tropical_soybean\",\n",
    "             \"irrigated_tropical_soybean\"]\n",
    "print(len(pftname))"
   ]
  },
  {
   "cell_type": "code",
   "execution_count": 14,
   "metadata": {},
   "outputs": [
    {
     "name": "stdout",
     "output_type": "stream",
     "text": [
      "0.0\n"
     ]
    }
   ],
   "source": [
    "print (vegtype.values[1])"
   ]
  },
  {
   "cell_type": "markdown",
   "metadata": {},
   "source": [
    "### Creating gridded array"
   ]
  },
  {
   "cell_type": "code",
   "execution_count": 15,
   "metadata": {},
   "outputs": [
    {
     "name": "stdout",
     "output_type": "stream",
     "text": [
      "CPU times: user 51.9 s, sys: 59.9 s, total: 1min 51s\n",
      "Wall time: 2min 50s\n"
     ]
    }
   ],
   "source": [
    "gridded = empty([ntim,npft.values+1,nlat,nlon])\n",
    "\n",
    "%%time\n",
    "# Takes ~4 minutes\n",
    "gridded[:, vegtype.values.astype(int), jxy.values.astype(int) - 1, ixy.values.astype(int) - 1] = gpp.values\n"
   ]
  },
  {
   "cell_type": "code",
   "execution_count": null,
   "metadata": {},
   "outputs": [],
   "source": [
    "print(gridded)"
   ]
  },
  {
   "cell_type": "markdown",
   "metadata": {},
   "source": [
    "### Adding dimensions and coordinates"
   ]
  },
  {
   "cell_type": "code",
   "execution_count": 16,
   "metadata": {},
   "outputs": [
    {
     "name": "stdout",
     "output_type": "stream",
     "text": [
      "<xarray.DataArray 'GPP' (time: 3828, pft: 78, lat: 192, lon: 288)>\n",
      "array([[[[0., ..., 0.],\n",
      "         ...,\n",
      "         [0., ..., 0.]],\n",
      "\n",
      "        ...,\n",
      "\n",
      "        [[0., ..., 0.],\n",
      "         ...,\n",
      "         [0., ..., 0.]]],\n",
      "\n",
      "\n",
      "       ...,\n",
      "\n",
      "\n",
      "       [[[0., ..., 0.],\n",
      "         ...,\n",
      "         [0., ..., 0.]],\n",
      "\n",
      "        ...,\n",
      "\n",
      "        [[0., ..., 0.],\n",
      "         ...,\n",
      "         [0., ..., 0.]]]])\n",
      "Coordinates:\n",
      "  * lat      (lat) float32 -90.0 -89.057594 -88.11518 ... 89.057594 90.0\n",
      "  * lon      (lon) float32 0.0 1.25 2.5 3.75 5.0 ... 355.0 356.25 357.5 358.75\n",
      "  * pft      (pft) <U35 'needleleaf_evergreen_temperate_tree' ... 'irrigated_tropical_soybean'\n",
      "  * time     (time) object 1700-01-16 11:45:00 ... 2018-12-16 12:00:00\n"
     ]
    }
   ],
   "source": [
    "#print(gridded.shape)\n",
    "grid_dims = xr.DataArray(gridded, dims=(\"time\",\"pft\",\"lat\",\"lon\"))\n",
    "grid_dims = grid_dims.assign_coords(time=data1.time,pft=pftname,lat=lat.values,lon=lon.values)\n",
    "grid_dims.name = var\n",
    "print(grid_dims)"
   ]
  },
  {
   "cell_type": "code",
   "execution_count": 17,
   "metadata": {},
   "outputs": [
    {
     "data": {
      "text/plain": [
       "<matplotlib.collections.QuadMesh at 0x2b20766357f0>"
      ]
     },
     "execution_count": 17,
     "metadata": {},
     "output_type": "execute_result"
    },
    {
     "data": {
      "image/png": "[encoded data removed]",
      "text/plain": [
       "<Figure size 432x288 with 2 Axes>"
      ]
     },
     "metadata": {
      "needs_background": "light"
     },
     "output_type": "display_data"
    }
   ],
   "source": [
    "#verify that this works\n",
    "grid_dims.isel(time=300,pft=19).plot()"
   ]
  },
  {
   "cell_type": "markdown",
   "metadata": {},
   "source": [
    "### Reshaping the time dimension to year, month"
   ]
  },
  {
   "cell_type": "code",
   "execution_count": 18,
   "metadata": {},
   "outputs": [],
   "source": [
    "reshaped  = grid_dims.values.reshape(num_years,12,*grid_dims.values.shape[1:])\n",
    "grid_reshape   = xr.DataArray(reshaped, dims=(\"years\",\"month\",\"pft\",\"lat\",\"lon\"))\n",
    "grid_reshape   = grid_reshape.assign_coords(years=years,month=month,pft=pftname,lat=lat.values,lon=lon.values)"
   ]
  },
  {
   "cell_type": "code",
   "execution_count": null,
   "metadata": {},
   "outputs": [],
   "source": [
    "print(grid_reshape)"
   ]
  },
  {
   "cell_type": "code",
   "execution_count": 19,
   "metadata": {},
   "outputs": [
    {
     "data": {
      "text/plain": [
       "<matplotlib.collections.QuadMesh at 0x2b20766f2128>"
      ]
     },
     "execution_count": 19,
     "metadata": {},
     "output_type": "execute_result"
    },
    {
     "data": {
      "image/png": "[encoded data removed]",
      "text/plain": [
       "<Figure size 432x288 with 2 Axes>"
      ]
     },
     "metadata": {
      "needs_background": "light"
     },
     "output_type": "display_data"
    }
   ],
   "source": [
    "#verify that this works\n",
    "grid_reshape.isel(years=300,month=6,pft=1).plot()"
   ]
  },
  {
   "cell_type": "code",
   "execution_count": 20,
   "metadata": {},
   "outputs": [
    {
     "name": "stdout",
     "output_type": "stream",
     "text": [
      "<xarray.DataArray (years: 319, pft: 64, lat: 192, lon: 288)>\n",
      "array([[[[nan, ..., nan],\n",
      "         ...,\n",
      "         [nan, ..., nan]],\n",
      "\n",
      "        ...,\n",
      "\n",
      "        [[nan, ..., nan],\n",
      "         ...,\n",
      "         [nan, ..., nan]]],\n",
      "\n",
      "\n",
      "       ...,\n",
      "\n",
      "\n",
      "       [[[nan, ..., nan],\n",
      "         ...,\n",
      "         [nan, ..., nan]],\n",
      "\n",
      "        ...,\n",
      "\n",
      "        [[nan, ..., nan],\n",
      "         ...,\n",
      "         [nan, ..., nan]]]])\n",
      "Coordinates:\n",
      "  * pft      (pft) int32 15 16 17 18 19 20 21 22 23 ... 71 72 73 74 75 76 77 78\n",
      "  * years    (years) int32 1700 1701 1702 1703 1704 ... 2014 2015 2016 2017 2018\n",
      "Dimensions without coordinates: lat, lon\n"
     ]
    }
   ],
   "source": []
  },
  {
   "cell_type": "markdown",
   "metadata": {},
   "source": [
    "### Redefining the dimension names for the crop weights mask"
   ]
  },
  {
   "cell_type": "code",
   "execution_count": 21,
   "metadata": {},
   "outputs": [],
   "source": [
    "cropwtsmask    = cropwtsmask.rename({'time':'years','cft':'pft','lsmlat':'lat','lsmlon':'lon'})"
   ]
  },
  {
   "cell_type": "code",
   "execution_count": 22,
   "metadata": {
    "collapsed": true,
    "jupyter": {
     "outputs_hidden": true
    }
   },
   "outputs": [
    {
     "name": "stdout",
     "output_type": "stream",
     "text": [
      "<xarray.DataArray (years: 319, month: 12, pft: 78, lat: 192, lon: 288)>\n",
      "array([[[[[0., ..., 0.],\n",
      "          ...,\n",
      "          [0., ..., 0.]],\n",
      "\n",
      "         ...,\n",
      "\n",
      "         [[0., ..., 0.],\n",
      "          ...,\n",
      "          [0., ..., 0.]]],\n",
      "\n",
      "\n",
      "        ...,\n",
      "\n",
      "\n",
      "        [[[0., ..., 0.],\n",
      "          ...,\n",
      "          [0., ..., 0.]],\n",
      "\n",
      "         ...,\n",
      "\n",
      "         [[0., ..., 0.],\n",
      "          ...,\n",
      "          [0., ..., 0.]]]],\n",
      "\n",
      "\n",
      "\n",
      "       ...,\n",
      "\n",
      "\n",
      "\n",
      "       [[[[0., ..., 0.],\n",
      "          ...,\n",
      "          [0., ..., 0.]],\n",
      "\n",
      "         ...,\n",
      "\n",
      "         [[0., ..., 0.],\n",
      "          ...,\n",
      "          [0., ..., 0.]]],\n",
      "\n",
      "\n",
      "        ...,\n",
      "\n",
      "\n",
      "        [[[0., ..., 0.],\n",
      "          ...,\n",
      "          [0., ..., 0.]],\n",
      "\n",
      "         ...,\n",
      "\n",
      "         [[0., ..., 0.],\n",
      "          ...,\n",
      "          [0., ..., 0.]]]]])\n",
      "Coordinates:\n",
      "  * lat      (lat) float32 -90.0 -89.057594 -88.11518 ... 89.057594 90.0\n",
      "  * lon      (lon) float32 0.0 1.25 2.5 3.75 5.0 ... 355.0 356.25 357.5 358.75\n",
      "  * month    (month) int64 0 1 2 3 4 5 6 7 8 9 10 11\n",
      "  * pft      (pft) <U35 'needleleaf_evergreen_temperate_tree' ... 'irrigated_tropical_soybean'\n",
      "  * years    (years) int64 1700 1701 1702 1703 1704 ... 2014 2015 2016 2017 2018\n"
     ]
    }
   ],
   "source": [
    "#print(years)\n",
    "#print(month)\n",
    "#print(grid_reshape)"
   ]
  },
  {
   "cell_type": "markdown",
   "metadata": {},
   "source": [
    "### Applying area mask to crop PFTs "
   ]
  },
  {
   "cell_type": "code",
   "execution_count": 23,
   "metadata": {
    "scrolled": true
   },
   "outputs": [],
   "source": [
    "sub_gpp = grid_reshape.isel(pft=slice(14,78))\n",
    "cropwtsmask['pft']    = sub_gpp.pft\n",
    "\n",
    "gridded_wts    = sub_gpp * cropwtsmask"
   ]
  },
  {
   "cell_type": "code",
   "execution_count": null,
   "metadata": {},
   "outputs": [],
   "source": [
    "print(gridded_wts)\n",
    "print(gridded_wts.pft)"
   ]
  },
  {
   "cell_type": "code",
   "execution_count": 24,
   "metadata": {},
   "outputs": [
    {
     "data": {
      "text/plain": [
       "<matplotlib.collections.QuadMesh at 0x2b20767a8ef0>"
      ]
     },
     "execution_count": 24,
     "metadata": {},
     "output_type": "execute_result"
    },
    {
     "data": {
      "image/png": "[encoded data removed]",
      "text/plain": [
       "<Figure size 432x288 with 2 Axes>"
      ]
     },
     "metadata": {
      "needs_background": "light"
     },
     "output_type": "display_data"
    }
   ],
   "source": [
    "#verify that this works\n",
    "gridded_wts.isel(years=300,month=6,pft=3).plot()"
   ]
  },
  {
   "cell_type": "markdown",
   "metadata": {},
   "source": [
    "### Subsetting the natural PFTs to prepare for concatenation"
   ]
  },
  {
   "cell_type": "code",
   "execution_count": 25,
   "metadata": {},
   "outputs": [
    {
     "name": "stdout",
     "output_type": "stream",
     "text": [
      "<xarray.DataArray (years: 319, month: 12, pft: 14, lat: 192, lon: 288)>\n",
      "array([[[[[0., ..., 0.],\n",
      "          ...,\n",
      "          [0., ..., 0.]],\n",
      "\n",
      "         ...,\n",
      "\n",
      "         [[0., ..., 0.],\n",
      "          ...,\n",
      "          [0., ..., 0.]]],\n",
      "\n",
      "\n",
      "        ...,\n",
      "\n",
      "\n",
      "        [[[0., ..., 0.],\n",
      "          ...,\n",
      "          [0., ..., 0.]],\n",
      "\n",
      "         ...,\n",
      "\n",
      "         [[0., ..., 0.],\n",
      "          ...,\n",
      "          [0., ..., 0.]]]],\n",
      "\n",
      "\n",
      "\n",
      "       ...,\n",
      "\n",
      "\n",
      "\n",
      "       [[[[0., ..., 0.],\n",
      "          ...,\n",
      "          [0., ..., 0.]],\n",
      "\n",
      "         ...,\n",
      "\n",
      "         [[0., ..., 0.],\n",
      "          ...,\n",
      "          [0., ..., 0.]]],\n",
      "\n",
      "\n",
      "        ...,\n",
      "\n",
      "\n",
      "        [[[0., ..., 0.],\n",
      "          ...,\n",
      "          [0., ..., 0.]],\n",
      "\n",
      "         ...,\n",
      "\n",
      "         [[0., ..., 0.],\n",
      "          ...,\n",
      "          [0., ..., 0.]]]]])\n",
      "Coordinates:\n",
      "  * lat      (lat) float32 -90.0 -89.057594 -88.11518 ... 89.057594 90.0\n",
      "  * lon      (lon) float32 0.0 1.25 2.5 3.75 5.0 ... 355.0 356.25 357.5 358.75\n",
      "  * month    (month) int64 0 1 2 3 4 5 6 7 8 9 10 11\n",
      "  * pft      (pft) <U35 'needleleaf_evergreen_temperate_tree' ... 'c4_grass'\n",
      "  * years    (years) int64 1700 1701 1702 1703 1704 ... 2014 2015 2016 2017 2018\n",
      "<xarray.DataArray 'pft' (pft: 14)>\n",
      "array(['needleleaf_evergreen_temperate_tree',\n",
      "       'needleleaf_evergreen_boreal_tree', 'needleleaf_deciduous_boreal_tree',\n",
      "       'broadleaf_evergreen_tropical_tree',\n",
      "       'broadleaf_evergreen_temperate_tree',\n",
      "       'broadleaf_deciduous_tropical_tree',\n",
      "       'broadleaf_deciduous_temperate_tree', 'broadleaf_deciduous_boreal_tree',\n",
      "       'broadleaf_evergreen_shrub', 'broadleaf_deciduous_temperate_shrub',\n",
      "       'broadleaf_deciduous_boreal_shrub', 'c3_arctic_grass',\n",
      "       'c3_non-arctic_grass', 'c4_grass'], dtype='<U35')\n",
      "Coordinates:\n",
      "  * pft      (pft) <U35 'needleleaf_evergreen_temperate_tree' ... 'c4_grass'\n"
     ]
    }
   ],
   "source": [
    "natpft       = grid_reshape.isel(pft=slice(0,14))\n",
    "print(grid_reshape.isel(pft=slice(0,14)))\n",
    "print(natpft.pft)"
   ]
  },
  {
   "cell_type": "code",
   "execution_count": 26,
   "metadata": {},
   "outputs": [
    {
     "name": "stdout",
     "output_type": "stream",
     "text": [
      "<xarray.DataArray (years: 319, month: 12, pft: 78, lat: 192, lon: 288)>\n",
      "array([[[[[ 0., ...,  0.],\n",
      "          ...,\n",
      "          [ 0., ...,  0.]],\n",
      "\n",
      "         ...,\n",
      "\n",
      "         [[nan, ..., nan],\n",
      "          ...,\n",
      "          [nan, ..., nan]]],\n",
      "\n",
      "\n",
      "        ...,\n",
      "\n",
      "\n",
      "        [[[ 0., ...,  0.],\n",
      "          ...,\n",
      "          [ 0., ...,  0.]],\n",
      "\n",
      "         ...,\n",
      "\n",
      "         [[nan, ..., nan],\n",
      "          ...,\n",
      "          [nan, ..., nan]]]],\n",
      "\n",
      "\n",
      "\n",
      "       ...,\n",
      "\n",
      "\n",
      "\n",
      "       [[[[ 0., ...,  0.],\n",
      "          ...,\n",
      "          [ 0., ...,  0.]],\n",
      "\n",
      "         ...,\n",
      "\n",
      "         [[nan, ..., nan],\n",
      "          ...,\n",
      "          [nan, ..., nan]]],\n",
      "\n",
      "\n",
      "        ...,\n",
      "\n",
      "\n",
      "        [[[ 0., ...,  0.],\n",
      "          ...,\n",
      "          [ 0., ...,  0.]],\n",
      "\n",
      "         ...,\n",
      "\n",
      "         [[nan, ..., nan],\n",
      "          ...,\n",
      "          [nan, ..., nan]]]]])\n",
      "Coordinates:\n",
      "  * lat      (lat) float32 -90.0 -89.057594 -88.11518 ... 89.057594 90.0\n",
      "  * lon      (lon) float32 0.0 1.25 2.5 3.75 5.0 ... 355.0 356.25 357.5 358.75\n",
      "  * month    (month) int64 0 1 2 3 4 5 6 7 8 9 10 11\n",
      "  * years    (years) int64 1700 1701 1702 1703 1704 ... 2014 2015 2016 2017 2018\n",
      "  * pft      (pft) object 'needleleaf_evergreen_temperate_tree' ... 'irrigated_tropical_soybean'\n",
      "<xarray.DataArray 'pft' (pft: 78)>\n",
      "array(['needleleaf_evergreen_temperate_tree',\n",
      "       'needleleaf_evergreen_boreal_tree', 'needleleaf_deciduous_boreal_tree',\n",
      "       'broadleaf_evergreen_tropical_tree',\n",
      "       'broadleaf_evergreen_temperate_tree',\n",
      "       'broadleaf_deciduous_tropical_tree',\n",
      "       'broadleaf_deciduous_temperate_tree', 'broadleaf_deciduous_boreal_tree',\n",
      "       'broadleaf_evergreen_shrub', 'broadleaf_deciduous_temperate_shrub',\n",
      "       'broadleaf_deciduous_boreal_shrub', 'c3_arctic_grass',\n",
      "       'c3_non-arctic_grass', 'c4_grass', 'unmanaged_c3_crop',\n",
      "       'unmanaged_c3_irrigated', 'temperate_corn', 'irrigated_temperate_corn',\n",
      "       'spring_wheat', 'irrigated_spring_wheat', 'winter_wheat',\n",
      "       'irrigated_winter_wheat', 'soybean', 'irrigated_soybean', 'barley',\n",
      "       'irrigated_barley', 'winter_barley', 'irrigated_winter_barley', 'rye',\n",
      "       'irrigated_rye', 'winter_rye', 'irrigated_winter_rye', 'cassava',\n",
      "       'irrigated_cassava', 'citrus', 'irrigated_citrus', 'cocoa',\n",
      "       'irrigated_cocoa', 'coffee', 'irrigated_coffee', 'cotton',\n",
      "       'irrigated_cotton', 'datepalm', 'irrigated_datepalm', 'foddergrass',\n",
      "       'irrigated_foddergrass', 'grapes', 'irrigated_grapes', 'groundnuts',\n",
      "       'irrigated_groundnuts', 'millet', 'irrigated_millet', 'oilpalm',\n",
      "       'irrigated_oilpalm', 'potatoes', 'irrigated_potatoes', 'pulses',\n",
      "       'irrigated_pulses', 'rapeseed', 'irrigated_rapeseed', 'rice',\n",
      "       'irrigated_rice', 'sorghum', 'irrigated_sorghum', 'sugarbeet',\n",
      "       'irrigated_sugarbeet', 'sugarcane', 'irrigated_sugarcane', 'sunflower',\n",
      "       'irrigated_sunflower', 'miscanthus', 'irrigated_miscanthus',\n",
      "       'switchgrass', 'irrigated_switchgrass', 'tropical_corn',\n",
      "       'irrigated_tropical_corn', 'tropical_soybean',\n",
      "       'irrigated_tropical_soybean'], dtype=object)\n",
      "Coordinates:\n",
      "  * pft      (pft) object 'needleleaf_evergreen_temperate_tree' ... 'irrigated_tropical_soybean'\n"
     ]
    }
   ],
   "source": [
    "%%time\n",
    "# Takes a really long time!\n",
    "\n",
    "wtd_grid_data       = xr.concat([grid_reshape.isel(pft=slice(0,14)), gridded_wts], dim='pft')\n",
    "\n",
    "print(wtd_grid_data)\n",
    "print(wtd_grid_data.pft)"
   ]
  },
  {
   "cell_type": "code",
   "execution_count": 27,
   "metadata": {},
   "outputs": [],
   "source": [
    "#How to add variable name? \n",
    "\n",
    "wtd_grid_data.to_netcdf(path=\"/glade/scratch/dll/GPPgriddedTest.nc\")"
   ]
  },
  {
   "cell_type": "code",
   "execution_count": null,
   "metadata": {},
   "outputs": [],
   "source": []
  },
  {
   "cell_type": "code",
   "execution_count": 50,
   "metadata": {},
   "outputs": [
    {
     "data": {
      "text/plain": [
       "<matplotlib.collections.QuadMesh at 0x2b20776f1c18>"
      ]
     },
     "execution_count": 50,
     "metadata": {},
     "output_type": "execute_result"
    },
    {
     "data": {
      "image/png": "[encoded data removed]",
      "text/plain": [
       "<Figure size 432x288 with 2 Axes>"
      ]
     },
     "metadata": {
      "needs_background": "light"
     },
     "output_type": "display_data"
    }
   ],
   "source": [
    "#looking at file\n",
    "wtd_grid_data.isel(years=300,month=6,pft=4).plot()"
   ]
  },
  {
   "cell_type": "markdown",
   "metadata": {},
   "source": [
    "Should I also apply the \"where\" statement to the natural veg? "
   ]
  },
  {
   "cell_type": "code",
   "execution_count": null,
   "metadata": {},
   "outputs": [],
   "source": []
  },
  {
   "cell_type": "markdown",
   "metadata": {},
   "source": [
    "### Below code is more data processing"
   ]
  },
  {
   "cell_type": "code",
   "execution_count": 28,
   "metadata": {},
   "outputs": [
    {
     "name": "stdout",
     "output_type": "stream",
     "text": [
      "CPU times: user 18 s, sys: 35.1 s, total: 53.1 s\n",
      "Wall time: 2min 56s\n"
     ]
    }
   ],
   "source": [
    "%%time\n",
    "#takes ~5 minutes\n",
    "\n",
    "#perhaps want to do this after file is written. \n",
    "\n",
    "#another option from Will (maybe example in monthlySVD example): write out grid_reshape.max.groupby(time.year)\n",
    "\n",
    "#note: maxval set above\n",
    "if (maxval == \"True\"):\n",
    "#    if var = \"GRAINC_TO_FOOD\"\n",
    "#       gridded_yr = gridded.sum() \n",
    "#CHANGE VAR TO wtd_grid_data\n",
    "   gridded_yr  = grid_reshape.max(dim='month')\n",
    "else:\n",
    "   gridded_yr  = grid_reshape.mean(dim='month')"
   ]
  },
  {
   "cell_type": "code",
   "execution_count": null,
   "metadata": {},
   "outputs": [],
   "source": [
    "print(gridded_yr)"
   ]
  },
  {
   "cell_type": "markdown",
   "metadata": {},
   "source": [
    "### Weighting by actual crop area\n",
    "## This code doesn't yet work!"
   ]
  },
  {
   "cell_type": "markdown",
   "metadata": {},
   "source": [
    "### writing netCDF file"
   ]
  },
  {
   "cell_type": "code",
   "execution_count": null,
   "metadata": {},
   "outputs": [],
   "source": [
    "gridded_yrs.to_netcdf(path=\"/glade/scratch/dll/griddedExample.nc\")\n",
    "#grid_dims.to_netcdf(path=\"/glade/scratch/dll/griddedExample.nc\")"
   ]
  },
  {
   "cell_type": "code",
   "execution_count": null,
   "metadata": {},
   "outputs": [],
   "source": []
  },
  {
   "cell_type": "markdown",
   "metadata": {},
   "source": [
    "To do:\n",
    "- correct time dimension to start in Jan\n",
    "    --> note that I still can't get the utils working. It doesn't seem to recognize the ctsm_py module. \n",
    "- mask data by PFT distribution in the land surface dataset"
   ]
  },
  {
   "cell_type": "markdown",
   "metadata": {},
   "source": [
    "## Old/Not working Code"
   ]
  },
  {
   "cell_type": "code",
   "execution_count": null,
   "metadata": {},
   "outputs": [],
   "source": [
    "#doesn't work yet... need to investigate\n",
    "reshaped = grid_dims.values.reshape(num_years, 12, *gridded.values.shape[1:])\n",
    " \n",
    "values = xr.DataArray(reshaped,\n",
    "                      dims=('year','month','lat','lon'),\n",
    "                      coords=(np.arange(1850, 1850+num_years), np.arange(12), data.lat, data.lon))\n",
    "values.attrs['units'] = data.attrs['units']\n",
    "sims[sim_name] = values"
   ]
  },
  {
   "cell_type": "code",
   "execution_count": null,
   "metadata": {},
   "outputs": [],
   "source": [
    "# For TRENDY use, not for CTSM_py commit\n",
    "#note: HTOP ('theightpft') also requested, but info not in old script\n",
    "vars_in = ['TLAI', 'FCTR', 'GPP', 'NPP', 'TOTVEGC', 'TV']\n",
    "vars_out = ['lai','transpft','gpppft','npppft','cVegpft','tskinpft']\n",
    "units_out_list = ['None','W m-2','kg C m-2 s-1','kg C m-2 s-1','K']\n",
    "long_name_out_list = ['Leaf Area Index','Vegtype level transpiration','Vegtype level GPP','Vegtype level NPP','Vegtype level Carbon in Vegetation','Vegtype level Skin temperature']\n",
    "unit_convert_list = [1,1,1.e-3,1.e-3,1.e-3,1]"
   ]
  },
  {
   "cell_type": "code",
   "execution_count": null,
   "metadata": {},
   "outputs": [],
   "source": [
    "#%%time\n",
    "#this is time intensive: ~6.5s to regrid 1 month; 2.5min for timeseries\n",
    "#gridded_test = gridded\n",
    "#new code added above that removes loop\n",
    "#for i in range(npftvector):\n",
    "#    #gridded = empty([ntim,77,nlat,nlon])\n",
    "#    #print ('i = ',i)\n",
    "#    if (cellwt_float[i]>0):\n",
    "#        col     = ixy.values[i].astype(int) - 1\n",
    "#        row     = jxy.values[i].astype(int) - 1 \n",
    "#        vegidx = vegtype.values[i].astype(int)\n",
    "#        #print (gridded[:,vegidx, row, col])\n",
    "#        #print (gpp.values[:,i])\n",
    "#        gridded_test[:,vegidx, row, col] = gpp.values[:,i]\n",
    "#        #print (i)"
   ]
  },
  {
   "cell_type": "code",
   "execution_count": null,
   "metadata": {},
   "outputs": [],
   "source": []
  }
 ],
 "metadata": {
  "kernelspec": {
   "display_name": "Python [conda env:miniconda-analysis]",
   "language": "python",
   "name": "conda-env-miniconda-analysis-py"
  },
  "language_info": {
   "codemirror_mode": {
    "name": "ipython",
    "version": 3
   },
   "file_extension": ".py",
   "mimetype": "text/x-python",
   "name": "python",
   "nbconvert_exporter": "python",
   "pygments_lexer": "ipython3",
   "version": "3.7.3"
  }
 },
 "nbformat": 4,
 "nbformat_minor": 4
}
